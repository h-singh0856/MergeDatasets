{
 "cells": [
  {
   "cell_type": "markdown",
   "id": "89fe9ad4-a988-4ac5-adae-f1f69c58e3cb",
   "metadata": {},
   "source": [
    "<div style=\"font-weight: bold; font-size: x-large; color: blue\">***Setup***</div>"
   ]
  },
  {
   "cell_type": "code",
   "execution_count": null,
   "id": "155c3d08-093f-463d-9306-52e95b481dfb",
   "metadata": {},
   "outputs": [],
   "source": [
    "import cudf\n",
    "import pandas as pd"
   ]
  },
  {
   "cell_type": "code",
   "execution_count": null,
   "id": "4dd1c8c9-1626-47be-b377-bff687e342db",
   "metadata": {},
   "outputs": [],
   "source": [
    "#Returns missing values\n",
    "def getMissing(df):\n",
    "    totalRows = df.shape[0]\n",
    "\n",
    "    temp = cudf.DataFrame({\n",
    "        \"Missing\": df.isnull().sum(),\n",
    "        \"Missing %\": (df.isnull().sum() / totalRows) * 100\n",
    "        \n",
    "    })\n",
    "    \n",
    "    temp = temp[temp['Missing'] > 0]\n",
    "    \n",
    "    return temp.sort_values(by=['Missing'], ascending=False)  "
   ]
  },
  {
   "cell_type": "markdown",
   "id": "9a6a0012-ed0c-4028-a23e-cfde2d4db36a",
   "metadata": {},
   "source": [
    "<div style=\"font-weight: bold; font-size: x-large; color: blue\">***1. Merge Datasets***</div>"
   ]
  },
  {
   "cell_type": "markdown",
   "id": "24322531-523a-436b-a839-b7235e4dd51c",
   "metadata": {},
   "source": [
    "<div style=\"font-weight: bold; font-size: large; color: blue\">1a. Housing Data:</div>"
   ]
  },
  {
   "cell_type": "code",
   "execution_count": null,
   "id": "60b154ed-2b80-4ea3-98f3-7a0930994583",
   "metadata": {},
   "outputs": [],
   "source": [
    "#Read\n",
    "housing_df = cudf.read_csv(\"Datasets/housing_data.csv\")\n",
    "\n",
    "#Get missing\n",
    "getMissing(housing_df)"
   ]
  },
  {
   "cell_type": "code",
   "execution_count": null,
   "id": "64364ab3-40c5-4cbe-bde3-972dcf10db27",
   "metadata": {},
   "outputs": [],
   "source": [
    "#Filter rows\n",
    "housing_df = housing_df[\n",
    "    (housing_df['Status'] == 'Sold') & \n",
    "    (housing_df['Property Type'] == 'Single Family') &\n",
    "    ((housing_df['City Name'] == 'Bakersfield') | (housing_df['City Name'] == 'Delano'))\n",
    "]\n",
    "\n",
    "#Drop columns\n",
    "housing_df.drop([    \n",
    "    'Status',\n",
    "    'Property Type',\n",
    "    #\n",
    "    'Style',\n",
    "    'Garage',\n",
    "    'Street Number 2',    \n",
    "    'RT007_ExpiredDate',\n",
    "    'Unit Number',  \n",
    "    #\n",
    "    'Pending Date'\n",
    "], axis=1, inplace=True)\n",
    "\n",
    "#Set data types\n",
    "housing_df['ML Number'] = cudf.to_numeric(housing_df['ML Number'])\n",
    "\n",
    "#Trim\n",
    "housing_df['Zipcode'] = housing_df['Zipcode'].astype(str).str.strip()\n",
    "\n",
    "#Extract sold month and year\n",
    "housing_df['Sold Date'] = cudf.to_datetime(housing_df['Sold Date'], format='%m/%d/%y')\n",
    "\n",
    "#No need to trim\n",
    "housing_df['Sold Month & Year'] = housing_df['Sold Date'].dt.year.astype(str) + \"-\" + housing_df['Sold Date'].dt.month.astype(str)\n",
    "\n",
    "#Print 'Sold Month & Year'\n",
    "housing_df[[\n",
    "    'Sold Date',\n",
    "    'Sold Month & Year'\n",
    "]].head()"
   ]
  },
  {
   "cell_type": "markdown",
   "id": "8946df08-89df-4ee9-b2e0-be61eda4fa73",
   "metadata": {},
   "source": [
    "<div style=\"font-weight: bold; font-size: large; color: blue\">1b. Mortgage Data:</div>"
   ]
  },
  {
   "cell_type": "code",
   "execution_count": null,
   "id": "accb064c-ef29-4e53-a80d-9998f49b95dd",
   "metadata": {},
   "outputs": [],
   "source": [
    "#Read\n",
    "mortgage_rates_df = cudf.read_csv(\"Datasets/mortgage_rates.csv\")\n",
    "\n",
    "#Split into month, day, year\n",
    "#expand=True: Return DataFrame/MultiIndex expanding dimensionality.\n",
    "temp = mortgage_rates_df['date'].str.split('/', expand=True)\n",
    "\n",
    "#Ensure day and month have leading zeros\n",
    "mortgage_rates_df['date_modified'] = temp[0].str.zfill(2) + '/' + temp[1].str.zfill(2) + '/' + temp[2]\n",
    "\n",
    "#Extract mortgage month and year\n",
    "mortgage_rates_df['date_modified'] = cudf.to_datetime(mortgage_rates_df['date_modified'], format='%m/%d/%Y')\n",
    "\n",
    "#No need to trim\n",
    "mortgage_rates_df['month_year'] = mortgage_rates_df['date_modified'].dt.year.astype(str) + \"-\" + mortgage_rates_df['date_modified'].dt.month.astype(str)\n",
    "\n",
    "#Print 'month_year'\n",
    "mortgage_rates_df[[\n",
    "    'date',\n",
    "    'date_modified',\n",
    "    'month_year'\n",
    "]].head()"
   ]
  },
  {
   "cell_type": "code",
   "execution_count": null,
   "id": "bccc4874-6fb0-4240-bc6d-d3479e98307f",
   "metadata": {},
   "outputs": [],
   "source": [
    "#Aggregate mortgage data\n",
    "mortgage_rates_agg_df = mortgage_rates_df.groupby(['month_year']).agg(\n",
    "    pmms30_mean=('pmms30', 'mean'),  \n",
    "    pmms15_mean=('pmms15', 'mean')\n",
    ")\n",
    "\n",
    "#Rename\n",
    "mortgage_rates_agg_df = mortgage_rates_agg_df.rename(columns={\n",
    "    'pmms30_mean': 'Avg Monthly Mortgage Rate (30Y)',\n",
    "    'pmms15_mean': 'Avg Monthly Mortgage Rate (15Y)'\n",
    "})\n",
    "\n",
    "#Print\n",
    "mortgage_rates_agg_df.sort_values('month_year', ascending=False).head(13)"
   ]
  },
  {
   "cell_type": "code",
   "execution_count": null,
   "id": "ddd0ecc9-baf4-4595-ae83-9e8f1ecf2003",
   "metadata": {},
   "outputs": [],
   "source": [
    "#Merge\n",
    "merged_df = cudf.merge(housing_df, mortgage_rates_agg_df, left_on=['Sold Month & Year'], right_on=['month_year'], how='left', suffixes=('', ''))\n",
    "\n",
    "#Print\n",
    "merged_df[[\n",
    "    'Sold Month & Year',\n",
    "    'Avg Monthly Mortgage Rate (30Y)',\n",
    "    'Avg Monthly Mortgage Rate (15Y)'\n",
    "]].sort_values('Sold Month & Year', ascending=False).head()"
   ]
  },
  {
   "cell_type": "code",
   "execution_count": null,
   "id": "d3eefe10-0693-4457-92d9-ab30db3cac93",
   "metadata": {},
   "outputs": [],
   "source": [
    "#Drop columns\n",
    "merged_df.drop([    \n",
    "    'Sold Month & Year'\n",
    "], axis=1, inplace=True)"
   ]
  },
  {
   "cell_type": "markdown",
   "id": "0b1c83c8-4b89-46d3-9fd2-ac8d0451e994",
   "metadata": {},
   "source": [
    "<div style=\"font-weight: bold; font-size: large; color: blue\">1c. Commute Scores:</div>"
   ]
  },
  {
   "cell_type": "code",
   "execution_count": null,
   "id": "04e1817b-5a39-42fa-b26d-fdb6472352f6",
   "metadata": {},
   "outputs": [],
   "source": [
    "#Read\n",
    "commute_scores_df = cudf.read_csv(\"Datasets/commute_scores.csv\")\n",
    "\n",
    "#Filter columns\n",
    "temp = commute_scores_df[[\n",
    "    'ML Number',\n",
    "    'Walk Score',\n",
    "    'Transit Score',\n",
    "    'Bike Score'\n",
    "]]\n",
    "\n",
    "#Set data types\n",
    "temp['ML Number'] = cudf.to_numeric(temp['ML Number'])\n",
    "\n",
    "#Print\n",
    "temp.sort_values('ML Number').head()"
   ]
  },
  {
   "cell_type": "code",
   "execution_count": null,
   "id": "fe8a2986-3130-41b3-876c-113d787d4e5a",
   "metadata": {},
   "outputs": [],
   "source": [
    "#Merge\n",
    "merged_df = cudf.merge(merged_df, temp, left_on=['ML Number'], right_on=['ML Number'], how='left', suffixes=('', ''))\n",
    "\n",
    "#Print\n",
    "merged_df[[\n",
    "    'ML Number',\n",
    "    'Walk Score',\n",
    "    'Transit Score',\n",
    "    'Bike Score'\n",
    "]].sort_values('ML Number').head()"
   ]
  },
  {
   "cell_type": "markdown",
   "id": "0b6442fb-2967-4824-99c1-6256f2198d13",
   "metadata": {},
   "source": [
    "<div style=\"font-weight: bold; font-size: large; color: blue\">1d. School Ratings:</div>"
   ]
  },
  {
   "cell_type": "code",
   "execution_count": null,
   "id": "08d2d2bb-1dcd-48ba-9369-2f9c84b9ecdf",
   "metadata": {},
   "outputs": [],
   "source": [
    "#Read\n",
    "school_ratings_df = cudf.read_csv(\"Datasets/school_ratings.csv\")\n",
    "\n",
    "#Filter columns\n",
    "school_ratings_subset_df = school_ratings_df[[\n",
    "    'School Name',\n",
    "    'Grade Classification',\n",
    "    'Ratings out of 10'\n",
    "]]\n",
    "\n",
    "#Trim\n",
    "school_ratings_subset_df['School Name'] = school_ratings_subset_df['School Name'].str.strip()\n",
    "\n",
    "school_ratings_subset_df['Grade Classification'] = school_ratings_subset_df['Grade Classification'].str.strip()"
   ]
  },
  {
   "cell_type": "code",
   "execution_count": null,
   "id": "5931b1cb-460f-4ef2-8883-33815f3da696",
   "metadata": {},
   "outputs": [],
   "source": [
    "#Merge elementary schools\n",
    "temp = school_ratings_subset_df[school_ratings_subset_df['Grade Classification'] == 'Elementary School']\n",
    "\n",
    "temp = temp.rename(columns={'Ratings out of 10': \"Elementary School Ratings\"})\n",
    "\n",
    "#Print\n",
    "temp.sort_values('School Name').head()"
   ]
  },
  {
   "cell_type": "code",
   "execution_count": null,
   "id": "d5617e9f-3ccc-4899-ab87-19d88246d574",
   "metadata": {},
   "outputs": [],
   "source": [
    "#Merge\n",
    "merged_df = cudf.merge(merged_df, temp, left_on=['Elementry School'], right_on=['School Name'], how='left', suffixes=('', ''))\n",
    "\n",
    "#Print\n",
    "merged_df[[\n",
    "    'Elementry School',\n",
    "    'Elementary School Ratings'\n",
    "]].drop_duplicates(subset=['Elementry School']).sort_values('Elementry School').head(10)"
   ]
  },
  {
   "cell_type": "code",
   "execution_count": null,
   "id": "bb50833a-c211-4151-80b3-6acecd659c07",
   "metadata": {},
   "outputs": [],
   "source": [
    "#Merge junior high schools\n",
    "temp = school_ratings_subset_df[school_ratings_subset_df['Grade Classification'] == 'Junior High School']\n",
    "\n",
    "temp = temp.rename(columns={'Ratings out of 10': \"Junior High School Ratings\"})\n",
    "\n",
    "#Print\n",
    "temp.sort_values('School Name').head()"
   ]
  },
  {
   "cell_type": "code",
   "execution_count": null,
   "id": "ba604475-afba-4e05-b1f5-5448e38ef05c",
   "metadata": {},
   "outputs": [],
   "source": [
    "#Merge\n",
    "merged_df = cudf.merge(merged_df, temp, left_on=['Junior High School'], right_on=['School Name'], how='left', suffixes=('', ''))\n",
    "\n",
    "#Print\n",
    "merged_df[[\n",
    "    'Junior High School',\n",
    "    'Junior High School Ratings'\n",
    "]].drop_duplicates(subset=['Junior High School']).sort_values('Junior High School').head(10)"
   ]
  },
  {
   "cell_type": "code",
   "execution_count": null,
   "id": "512ece22-7dd4-4809-8d0c-032f09946097",
   "metadata": {},
   "outputs": [],
   "source": [
    "#Merge high schools\n",
    "temp = school_ratings_subset_df[school_ratings_subset_df['Grade Classification'] == 'High School']\n",
    "\n",
    "temp = temp.rename(columns={'Ratings out of 10': \"High School Ratings\"})\n",
    "\n",
    "#Print\n",
    "temp.sort_values('School Name').head()"
   ]
  },
  {
   "cell_type": "code",
   "execution_count": null,
   "id": "c3699ec8-48b7-40e9-9fe4-88b731803545",
   "metadata": {},
   "outputs": [],
   "source": [
    "#Merge\n",
    "merged_df = cudf.merge(merged_df, temp, left_on=['High School'], right_on=['School Name'], how='left', suffixes=('', ''))\n",
    "\n",
    "#Print\n",
    "merged_df[[\n",
    "    'High School',\n",
    "    'High School Ratings'\n",
    "]].drop_duplicates(subset=['High School']).sort_values('High School').head(10)"
   ]
  },
  {
   "cell_type": "code",
   "execution_count": null,
   "id": "6c9a204b-687f-4f69-9d6e-e3690a83626f",
   "metadata": {},
   "outputs": [],
   "source": [
    "#Drop columns\n",
    "merged_df.drop([    \n",
    "    'School Name',\n",
    "    'Grade Classification'\n",
    "], axis=1, inplace=True)"
   ]
  },
  {
   "cell_type": "markdown",
   "id": "7df0dc74-8c77-430c-bcd3-be4ad720c70e",
   "metadata": {},
   "source": [
    "<div style=\"font-weight: bold; font-size: large; color: blue\">1e. Sex Offender Data:</div>"
   ]
  },
  {
   "cell_type": "code",
   "execution_count": null,
   "id": "6cf92e80-0706-450a-930b-d3d527afa3be",
   "metadata": {},
   "outputs": [],
   "source": [
    "#Read\n",
    "sex_offender_df = cudf.read_csv(\"Datasets/sex_offender_data.csv\")\n",
    "\n",
    "#Trim\n",
    "sex_offender_df['Zipcode'] = sex_offender_df['Zipcode'].astype(str).str.strip()\n",
    "\n",
    "#Rename column\n",
    "sex_offender_df = sex_offender_df.rename(columns={'Count': \"Sex Offender Count\"})\n",
    "\n",
    "#Print\n",
    "sex_offender_df.sort_values('Zipcode').head()"
   ]
  },
  {
   "cell_type": "code",
   "execution_count": null,
   "id": "050578c2-70f7-4b72-b203-a830ac86d811",
   "metadata": {},
   "outputs": [],
   "source": [
    "#Merge\n",
    "merged_df = cudf.merge(merged_df, sex_offender_df, left_on=['Zipcode'], right_on=['Zipcode'], how='left', suffixes=('', ''))\n",
    "\n",
    "#Print\n",
    "merged_df[[\n",
    "    'Zipcode',\n",
    "    'Sex Offender Count'\n",
    "]].drop_duplicates(subset=['Zipcode']).sort_values('Zipcode').head()"
   ]
  },
  {
   "cell_type": "markdown",
   "id": "5b3dbb0b-2a7f-4f13-b0e7-955f0e1a8dea",
   "metadata": {},
   "source": [
    "<div style=\"font-weight: bold; font-size: large; color: blue\">1f. Driving Distance to the Nearest Shopping Mall and Downtown:</div>"
   ]
  },
  {
   "cell_type": "code",
   "execution_count": null,
   "id": "134fbaf2-dba7-4007-9fc6-949cd60cee4e",
   "metadata": {},
   "outputs": [],
   "source": [
    "#Read\n",
    "distance_duration_df = cudf.read_csv(\"Datasets/distance_duration.csv\")\n",
    "\n",
    "#Set data types\n",
    "distance_duration_df['ML Number'] = cudf.to_numeric(distance_duration_df['ML Number'])\n",
    "\n",
    "#Drop columns\n",
    "distance_duration_df.drop([\n",
    "    #Google place ID\n",
    "    \"Shopping Mall ID\",\n",
    "    #It's blank\n",
    "    \"Shopping Mall Addr\",\n",
    "    \"Shopping Mall Loc Types\",\n",
    "    #It's blank\n",
    "    \"Shopping Mall Loc Type\",\n",
    "    \"Shopping Mall Latitude\",\n",
    "    \"Shopping Mall Longitude\",\n",
    "    #It's false for all rows\n",
    "    \"Shopping Mall Permanently Closed\",\n",
    "    \"Shopping Mall Driving Duration With Traffic in Secs\",\n",
    "    \"Downtown Driving Duration With Traffic in Secs\"\n",
    "    \n",
    "    \n",
    "], axis=1, inplace=True)\n",
    "\n",
    "#Rename columns\n",
    "distance_duration_df = distance_duration_df.rename(columns={\n",
    "    'Shopping Mall Name': 'Mall Name',\n",
    "    'Shopping Mall Vicinity': 'Mall Vicinity',\n",
    "    'Shopping Mall Driving Distance in Meters': 'Mall Distance (Meters)',\n",
    "    'Shopping Mall Driving Duration Without Traffic in Secs': 'Mall Duration (Secs)',\n",
    "    'Shopping Mall Usr Ratings Total': 'Mall Ratings Total',\n",
    "    'Shopping Mall Ratings': 'Mall Ratings',    \n",
    "    'Downtown Driving Distance in Meters': 'Downtown Distance (Meters)',\n",
    "    'Downtown Driving Duration Without Traffic in Secs': 'Downtown Duration (Secs)'\n",
    "})\n",
    "\n",
    "#Print\n",
    "distance_duration_df.sort_values('ML Number').head()"
   ]
  },
  {
   "cell_type": "code",
   "execution_count": null,
   "id": "1c16f667-e127-438d-a011-e7aed0145897",
   "metadata": {},
   "outputs": [],
   "source": [
    "#Merge\n",
    "merged_df = cudf.merge(merged_df, distance_duration_df, left_on=['ML Number'], right_on=['ML Number'], how='left', suffixes=('', ''))\n",
    "\n",
    "#Print\n",
    "merged_df[[\n",
    "    'ML Number',\n",
    "    'Mall Name',\n",
    "    'Mall Vicinity',\n",
    "    'Mall Distance (Meters)',\n",
    "    'Mall Duration (Secs)',\n",
    "    'Mall Ratings Total',\n",
    "    'Mall Ratings',\n",
    "    'Downtown Distance (Meters)',\n",
    "    'Downtown Duration (Secs)'\n",
    "]].sort_values('ML Number').head()"
   ]
  },
  {
   "cell_type": "markdown",
   "id": "7de03ec0-bd08-4f0d-b26c-ba183478a2ac",
   "metadata": {},
   "source": [
    "<div style=\"font-weight: bold; font-size: x-large; color: blue\">***2. Save***</div>"
   ]
  },
  {
   "cell_type": "markdown",
   "id": "b5f9199e-bbe2-4eaf-ad75-d295f606442e",
   "metadata": {},
   "source": [
    "<div style=\"font-weight: bold; font-size: large; color: blue\">2a. Get Missing Values:</div>"
   ]
  },
  {
   "cell_type": "code",
   "execution_count": null,
   "id": "62714f1c-c1ed-421f-927c-a067db291b49",
   "metadata": {},
   "outputs": [],
   "source": [
    "#Print missing values\n",
    "getMissing(merged_df)"
   ]
  },
  {
   "cell_type": "markdown",
   "id": "1d874e86-ff07-424c-9a07-35f45d74c78e",
   "metadata": {},
   "source": [
    "<div style=\"font-weight: bold; font-size: large; color: blue\">2c. Set Data Types:</div>"
   ]
  },
  {
   "cell_type": "code",
   "execution_count": null,
   "id": "fdc13112-0045-4846-984d-93d6c126d315",
   "metadata": {},
   "outputs": [],
   "source": [
    "#Print unique values\n",
    "temp = [\n",
    "    'DOM',\n",
    "    'Bedrooms',\n",
    "    'Bathrooms',\n",
    "    'Year Built',\n",
    "    'Walk Score',\n",
    "    'Transit Score',\n",
    "    'Bike Score',\n",
    "    'Elementary School Ratings',\n",
    "    'Junior High School Ratings',\n",
    "    'High School Ratings',\n",
    "    'Sex Offender Count',\n",
    "    'Mall Name'\n",
    "]\n",
    "\n",
    "for c in temp:\n",
    "    uniqueVals = merged_df[c].unique()\n",
    "\n",
    "    print(c)\n",
    "    print(uniqueVals)\n",
    "    print('\\n\\n')"
   ]
  },
  {
   "cell_type": "code",
   "execution_count": null,
   "id": "7addcdf4-97aa-4064-a3e2-1baadab49e87",
   "metadata": {},
   "outputs": [],
   "source": [
    "#Numeric\n",
    "merged_df['ML Number'] = merged_df['ML Number'].astype(str).str.replace(',', '').astype('int')\n",
    "merged_df['Original Price'] = merged_df['Original Price'].astype(str).str.replace(',', '').astype('float')\n",
    "merged_df['List Price'] = merged_df['List Price'].astype(str).str.replace(',', '').astype('float')\n",
    "merged_df['Sold Price'] = merged_df['Sold Price'].astype(str).str.replace(',', '').astype('float')\n",
    "merged_df['DOM'] = merged_df['DOM'].astype(str).str.replace(',', '').astype('float')\n",
    "#Treat it as numeric: Although the number of bedrooms is a discrete integer, it represents a natural ordinal relationship. Treating it as a numeric variable allows the model to capture the linear or non-linear impact of additional bedrooms on home value.\n",
    "merged_df['Bedrooms'] = merged_df['Bedrooms'].astype(str).str.replace(',', '').astype('float')\n",
    "#Treat it as numeric: Bathrooms include fractional values (e.g., 2.5, 1.75), which suggest they should be treated as numeric. The model can learn that adding a half or a quarter bathroom affects home value in a proportional way.\n",
    "merged_df['Bathrooms'] = merged_df['Bathrooms'].astype(str).str.replace(',', '').astype('float')\n",
    "merged_df['Sq Foot'] = merged_df['Sq Foot'].astype(str).str.replace(',', '').astype('float')\n",
    "merged_df['Lot Size'] = merged_df['Lot Size'].astype(str).str.replace(',', '').astype('float')\n",
    "merged_df['Year Built'] = merged_df['Year Built'].astype(str).str.replace(',', '').astype('float')\n",
    "merged_df['Latitude'] = merged_df['Latitude'].astype(str).str.replace(',', '').astype('float')\n",
    "merged_df['Longitude'] = merged_df['Longitude'].astype(str).str.replace(',', '').astype('float')\n",
    "merged_df['Avg Monthly Mortgage Rate (30Y)'] = merged_df['Avg Monthly Mortgage Rate (30Y)'].astype(str).str.replace(',', '').astype('float')\n",
    "merged_df['Avg Monthly Mortgage Rate (15Y)'] = merged_df['Avg Monthly Mortgage Rate (15Y)'].astype(str).str.replace(',', '').astype('float')\n",
    "merged_df['Walk Score'] = merged_df['Walk Score'].astype(str).str.replace(',', '').astype('float')\n",
    "merged_df['Transit Score'] = merged_df['Transit Score'].astype(str).str.replace(',', '').astype('float')\n",
    "merged_df['Bike Score'] = merged_df['Bike Score'].astype(str).str.replace(',', '').astype('float')\n",
    "#Treat school ratings as numeric: They have a natural order (higher numbers represent better ratings), so they should be treated as numeric variables rather than categorical. Treating them as numeric allows the model to capture linear and non-linear relationships between school quality and home value.\n",
    "merged_df['Elementary School Ratings'] = merged_df['Elementary School Ratings'].astype(str).str.replace(',', '').astype('float')\n",
    "merged_df['Junior High School Ratings'] = merged_df['Junior High School Ratings'].astype(str).str.replace(',', '').astype('float')\n",
    "merged_df['High School Ratings'] = merged_df['High School Ratings'].astype(str).str.replace(',', '').astype('float')\n",
    "merged_df['Sex Offender Count'] = merged_df['Sex Offender Count'].astype(str).str.replace(',', '').astype('float')\n",
    "merged_df['Mall Distance (Meters)'] = merged_df['Mall Distance (Meters)'].astype(str).str.replace(',', '').astype('float')\n",
    "merged_df['Mall Duration (Secs)'] = merged_df['Mall Duration (Secs)'].astype(str).str.replace(',', '').astype('float')\n",
    "merged_df['Mall Ratings Total'] = merged_df['Mall Ratings Total'].astype(str).str.replace(',', '').astype('float')\n",
    "merged_df['Mall Ratings'] = merged_df['Mall Ratings'].astype(str).str.replace(',', '').astype('float')\n",
    "merged_df['Downtown Distance (Meters)'] = merged_df['Downtown Distance (Meters)'].astype(str).str.replace(',', '').astype('float')\n",
    "merged_df['Downtown Duration (Secs)'] = merged_df['Downtown Duration (Secs)'].astype(str).str.replace(',', '').astype('float')\n",
    "\n",
    "#Categorical\n",
    "merged_df['City Name'] = merged_df['City Name'].astype('category')\n",
    "merged_df['Zipcode'] = merged_df['Zipcode'].astype('category')\n",
    "merged_df['Area'] = merged_df['Area'].astype('category')\n",
    "merged_df['Pool_None'] = merged_df['Pool_None'].astype('category')\n",
    "merged_df['Pool_Inground'] = merged_df['Pool_Inground'].astype('category')\n",
    "merged_df['Pool_Community'] = merged_df['Pool_Community'].astype('category')\n",
    "merged_df['Pool_Spa'] = merged_df['Pool_Spa'].astype('category')\n",
    "merged_df['Pool_Above_Ground'] = merged_df['Pool_Above_Ground'].astype('category')\n",
    "merged_df['Heating_Central_AC'] = merged_df['Heating_Central_AC'].astype('category')\n",
    "merged_df['Heating_Central_Heat'] = merged_df['Heating_Central_Heat'].astype('category')\n",
    "merged_df['Heating_Other'] = merged_df['Heating_Other'].astype('category')\n",
    "merged_df['Heating_Evaporative'] = merged_df['Heating_Evaporative'].astype('category')\n",
    "merged_df['Heating_Floor/Wall_Heater'] = merged_df['Heating_Floor/Wall_Heater'].astype('category')\n",
    "merged_df['Heating_Wood_Burning_Stove'] = merged_df['Heating_Wood_Burning_Stove'].astype('category')\n",
    "merged_df['Heating_Gas'] = merged_df['Heating_Gas'].astype('category')\n",
    "merged_df['Heating_Electric'] = merged_df['Heating_Electric'].astype('category')\n",
    "merged_df['Heating_Propane'] = merged_df['Heating_Propane'].astype('category')\n",
    "merged_df['Interior_Great_Room'] = merged_df['Interior_Great_Room'].astype('category')\n",
    "merged_df['Interior_Formal_Dining'] = merged_df['Interior_Formal_Dining'].astype('category')\n",
    "merged_df['Interior_Breakfast_Area'] = merged_df['Interior_Breakfast_Area'].astype('category')\n",
    "merged_df['Interior_Indoor_Utility'] = merged_df['Interior_Indoor_Utility'].astype('category')\n",
    "merged_df['Interior_Split_Wing'] = merged_df['Interior_Split_Wing'].astype('category')\n",
    "merged_df['Interior_Formal_Living'] = merged_df['Interior_Formal_Living'].astype('category')\n",
    "merged_df['Interior_Bonus_Room'] = merged_df['Interior_Bonus_Room'].astype('category')\n",
    "merged_df['Interior_Office'] = merged_df['Interior_Office'].astype('category')\n",
    "merged_df['Interior_Sep._Family_Room'] = merged_df['Interior_Sep._Family_Room'].astype('category')\n",
    "merged_df['Interior_Extended_Living'] = merged_df['Interior_Extended_Living'].astype('category')\n",
    "merged_df['Interior_Handicap'] = merged_df['Interior_Handicap'].astype('category')\n",
    "merged_df['Interior_Basement'] = merged_df['Interior_Basement'].astype('category')\n",
    "merged_df['Exterior_Brick'] = merged_df['Exterior_Brick'].astype('category')\n",
    "merged_df['Exterior_Stucco'] = merged_df['Exterior_Stucco'].astype('category')\n",
    "merged_df['Exterior_Wood'] = merged_df['Exterior_Wood'].astype('category')\n",
    "merged_df['Exterior_Other'] = merged_df['Exterior_Other'].astype('category')\n",
    "merged_df['Exterior_Steel_/_Metal'] = merged_df['Exterior_Steel_/_Metal'].astype('category')\n",
    "merged_df['Exterior_Brick_Veneer'] = merged_df['Exterior_Brick_Veneer'].astype('category')\n",
    "merged_df['Exterior_Wood_Frame'] = merged_df['Exterior_Wood_Frame'].astype('category')\n",
    "merged_df['Other Features_Horse'] = merged_df['Other Features_Horse'].astype('category')\n",
    "merged_df['Other Features_Alley'] = merged_df['Other Features_Alley'].astype('category')\n",
    "merged_df['Other Features_Cul_De_Sac'] = merged_df['Other Features_Cul_De_Sac'].astype('category')\n",
    "merged_df['Other Features_Corner'] = merged_df['Other Features_Corner'].astype('category')\n",
    "merged_df['Other Features_Gated_Community'] = merged_df['Other Features_Gated_Community'].astype('category')\n",
    "merged_df['Other Features_Adult_Community'] = merged_df['Other Features_Adult_Community'].astype('category')\n",
    "merged_df['Other Features_Mountain'] = merged_df['Other Features_Mountain'].astype('category')\n",
    "merged_df['Other Features_River'] = merged_df['Other Features_River'].astype('category')\n",
    "merged_df['Other Features_Lake'] = merged_df['Other Features_Lake'].astype('category')\n",
    "merged_df['Other Features_Golf_Course'] = merged_df['Other Features_Golf_Course'].astype('category')\n",
    "merged_df['Other Features_Truck_Door'] = merged_df['Other Features_Truck_Door'].astype('category')\n",
    "merged_df['Other Features_Partial_Fenced'] = merged_df['Other Features_Partial_Fenced'].astype('category')\n",
    "merged_df['Other Features_Overhead_Door'] = merged_df['Other Features_Overhead_Door'].astype('category')\n",
    "merged_df['Other Features_Additional_Buildings'] = merged_df['Other Features_Additional_Buildings'].astype('category')\n",
    "merged_df['Other Features_Wet_Sprinklers'] = merged_df['Other Features_Wet_Sprinklers'].astype('category')\n",
    "merged_df['Other Features_Security_Fence'] = merged_df['Other Features_Security_Fence'].astype('category')\n",
    "merged_df['Other Features_Burglar_Alarm'] = merged_df['Other Features_Burglar_Alarm'].astype('category')\n",
    "merged_df['Other Features_Smoke/Fire_Alarm'] = merged_df['Other Features_Smoke/Fire_Alarm'].astype('category')\n",
    "merged_df['Other Features_Security_Lighting'] = merged_df['Other Features_Security_Lighting'].astype('category')\n",
    "merged_df['Other Features_Sign'] = merged_df['Other Features_Sign'].astype('category')\n",
    "merged_df['Other Features_Display_Window'] = merged_df['Other Features_Display_Window'].astype('category')\n",
    "merged_df['Other Features_Laundry_Hookup'] = merged_df['Other Features_Laundry_Hookup'].astype('category')\n",
    "merged_df['Other Features_Outside_Storage'] = merged_df['Other Features_Outside_Storage'].astype('category')\n",
    "merged_df['Other Features_ADA_Compliant'] = merged_df['Other Features_ADA_Compliant'].astype('category')\n",
    "\n",
    "#Date & time\n",
    "merged_df['List Date'] =  cudf.to_datetime(merged_df['List Date'], format='%m/%d/%y')\n",
    "merged_df['Sold Date'] = cudf.to_datetime(merged_df['Sold Date'], format='%Y-%m-%d')\n",
    "\n",
    "#String\n",
    "merged_df['Street Number 1'] = merged_df['Street Number 1'].astype('str')\n",
    "merged_df['Street Name'] = merged_df['Street Name'].astype('str')\n",
    "merged_df['Cross Street'] = merged_df['Cross Street'].astype('str')\n",
    "\n",
    "merged_df['Elementry School'] = merged_df['Elementry School'].astype('str')\n",
    "merged_df['Junior High School'] = merged_df['Junior High School'].astype('str')\n",
    "merged_df['High School'] = merged_df['High School'].astype('str')\n",
    "\n",
    "merged_df['Mall Name'] = merged_df['Mall Name'].astype('str')\n",
    "merged_df['Mall Vicinity'] = merged_df['Mall Vicinity'].astype('str')\n",
    "\n",
    "#Print data types\n",
    "merged_df.info()"
   ]
  },
  {
   "cell_type": "code",
   "execution_count": null,
   "id": "d8d29212-7d9d-4288-b8b7-a6a5c454f2d1",
   "metadata": {},
   "outputs": [],
   "source": [
    "#Print values\n",
    "pd.set_option('display.max_columns', None)\n",
    "\n",
    "merged_df.head(10)"
   ]
  },
  {
   "cell_type": "markdown",
   "id": "60eeab48-3642-4615-8fec-f8bf2ab4b148",
   "metadata": {},
   "source": [
    "<div style=\"font-weight: bold; font-size: large; color: blue\">2d. Save:</div>"
   ]
  },
  {
   "cell_type": "code",
   "execution_count": null,
   "id": "f644cf05-2a1c-405c-beb7-e24e03c53024",
   "metadata": {},
   "outputs": [],
   "source": [
    "#Save data frame\n",
    "merged_df.to_feather(\"Datasets/Merged.feather\")"
   ]
  },
  {
   "cell_type": "code",
   "execution_count": null,
   "id": "91e9d486-5886-4618-b5e0-e11e36e4931b",
   "metadata": {},
   "outputs": [],
   "source": [
    "#Save sample\n",
    "merged_df.head(200).to_csv(\"Temp/Merged_Sample.csv\")"
   ]
  },
  {
   "cell_type": "code",
   "execution_count": null,
   "id": "1fc46020-2d6b-45e2-bec2-2bd0c1bcb9a0",
   "metadata": {},
   "outputs": [],
   "source": [
    "#Test\n",
    "cudf.read_feather(\"Datasets/Merged.feather\").info()"
   ]
  },
  {
   "cell_type": "code",
   "execution_count": null,
   "id": "a598cac8-d162-48c2-962f-fe21513613f6",
   "metadata": {},
   "outputs": [],
   "source": []
  }
 ],
 "metadata": {
  "kernelspec": {
   "display_name": "Python 3 (ipykernel)",
   "language": "python",
   "name": "python3"
  },
  "language_info": {
   "codemirror_mode": {
    "name": "ipython",
    "version": 3
   },
   "file_extension": ".py",
   "mimetype": "text/x-python",
   "name": "python",
   "nbconvert_exporter": "python",
   "pygments_lexer": "ipython3",
   "version": "3.12.8"
  }
 },
 "nbformat": 4,
 "nbformat_minor": 5
}
